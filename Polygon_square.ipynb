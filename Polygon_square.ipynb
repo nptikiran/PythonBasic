{
  "nbformat": 4,
  "nbformat_minor": 0,
  "metadata": {
    "colab": {
      "name": "Polygon_square.ipynb",
      "provenance": [],
      "authorship_tag": "ABX9TyOqEHqjeQbadbOfdQP4xiIF",
      "include_colab_link": true
    },
    "kernelspec": {
      "name": "python3",
      "display_name": "Python 3"
    },
    "language_info": {
      "name": "python"
    }
  },
  "cells": [
    {
      "cell_type": "markdown",
      "metadata": {
        "id": "view-in-github",
        "colab_type": "text"
      },
      "source": [
        "<a href=\"https://colab.research.google.com/github/nptikiran/PythonBasic/blob/Branch1/Polygon_square.ipynb\" target=\"_parent\"><img src=\"https://colab.research.google.com/assets/colab-badge.svg\" alt=\"Open In Colab\"/></a>"
      ]
    },
    {
      "cell_type": "markdown",
      "metadata": {
        "id": "LsvS2gLgjBT-"
      },
      "source": [
        "### To find out the nth angle of polygon when initial angle and per angle increament has given.\n",
        "- Source :- Geeksforgeek"
      ]
    },
    {
      "cell_type": "markdown",
      "metadata": {
        "id": "s4WxyhgJmoYq"
      },
      "source": [
        "Given four integers N.A,K,n where,\n",
        "- N = no. of sides\n",
        "- A = Represent initial angle of Polygon\n",
        "- K = degree angle increase\n",
        "A=30 \n",
        "A1 = (A+K)\n",
        "\n",
        "_ Task is to find nth angle of polygon having n nos. of sides and if it is not possible then print not posible."
      ]
    },
    {
      "cell_type": "code",
      "metadata": {
        "colab": {
          "base_uri": "https://localhost:8080/"
        },
        "id": "wPMNWVwZi7Dn",
        "outputId": "a30be0ef-3c06-4f38-d454-7ee529c3c9d6"
      },
      "source": [
        "#Function to check angle is posible or not\n",
        "def possible(N,A,K,n):\n",
        "\n",
        "  #Angular sum of the n-sided polygon\n",
        "  sum_of_angle = 180 * (N - 2)\n",
        "  \n",
        "  # Angular sum of the n-sided given polygon=\n",
        "  total_angle_sum = (N * ((2 * A) + (N - 1) * K)) / 2\n",
        "\n",
        "  # Cecking for angles are same or not\n",
        "  if (sum_of_angle != total_angle_sum):\n",
        "    return False\n",
        "  else:\n",
        "    return True\n",
        "\n",
        "#Function to find nth angle\n",
        "def nth_angle(N,A,K,n):\n",
        "  nth = 0\n",
        "\n",
        "  #Calculate nth angle\n",
        "  nth = A + (n-1) * K\n",
        "  return nth\n",
        "\n",
        "#Driver code(give input in this code)\n",
        "if __name__ == '__main__':\n",
        "\n",
        "  N=5\n",
        "  A=60\n",
        "  K=60\n",
        "  n=8\n",
        "\n",
        " # Check the posibility of polygon exist or not\n",
        "  if (possible(N,A,K,n)):\n",
        "    print(nth_angle(N,A,K,n))\n",
        "  else:\n",
        "    print(\"Not possible\")"
      ],
      "execution_count": null,
      "outputs": [
        {
          "output_type": "stream",
          "text": [
            "Not possible\n"
          ],
          "name": "stdout"
        }
      ]
    },
    {
      "cell_type": "markdown",
      "metadata": {
        "id": "TVcBABeHRDqf"
      },
      "source": [
        "#Find the area of Square using it's side(s),diagonal(D) and perimeter.\n",
        "\n",
        "Here we are going to find out area of the square with the help of python code.Here we see how can find area of square,If side or diagonal or perimeter of square has given."
      ]
    },
    {
      "cell_type": "code",
      "metadata": {
        "id": "lvxeCqKyltif",
        "colab": {
          "base_uri": "https://localhost:8080/"
        },
        "outputId": "e6855da2-1c4c-40bc-caeb-112a87c88073"
      },
      "source": [
        "#Import math for square root function\n",
        "import math\n",
        "# define function area of square with parameter side(s)\n",
        "def areaOfSquar(s):\n",
        "  #Area of square if side of square is given\n",
        "  a = s * s\n",
        "\n",
        "  #Digonal of the square\n",
        "  d = (math.sqrt(2)) * s\n",
        "  \n",
        "  #Area of the square if diagonal is given\n",
        "  a1 = (d*d)/2\n",
        "\n",
        "  #Perimeter of square\n",
        "  p = 4*s\n",
        "\n",
        "  #Area of square if perimeter is given\n",
        "  a2 = (p*p)/16\n",
        "\n",
        "  #return the values which we want to print\n",
        "  return (a, a1, a2)\n",
        "\n",
        "  #Drivers Code as an input\n",
        "\n",
        "if __name__ == '__main__':\n",
        "  \n",
        "  #Input value of side(s)\n",
        "  s=700\n",
        "  #To print the output\n",
        "  print(areaOfSquar(s))    \n"
      ],
      "execution_count": 20,
      "outputs": [
        {
          "output_type": "stream",
          "text": [
            "(490000, 490000.00000000006, 490000.0)\n"
          ],
          "name": "stdout"
        }
      ]
    },
    {
      "cell_type": "code",
      "metadata": {
        "id": "FLvEwqG-eP26"
      },
      "source": [
        ""
      ],
      "execution_count": null,
      "outputs": []
    }
  ]
}