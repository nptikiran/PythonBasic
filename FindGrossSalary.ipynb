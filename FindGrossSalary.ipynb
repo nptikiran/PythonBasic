{
  "nbformat": 4,
  "nbformat_minor": 0,
  "metadata": {
    "colab": {
      "name": "FindGrossSalary.ipynb",
      "provenance": [],
      "authorship_tag": "ABX9TyPLeEsz05m3iqzdjFffn4yf",
      "include_colab_link": true
    },
    "kernelspec": {
      "name": "python3",
      "display_name": "Python 3"
    },
    "language_info": {
      "name": "python"
    }
  },
  "cells": [
    {
      "cell_type": "markdown",
      "metadata": {
        "id": "view-in-github",
        "colab_type": "text"
      },
      "source": [
        "<a href=\"https://colab.research.google.com/github/nptikiran/PythonBasic/blob/Branch1/FindGrossSalary.ipynb\" target=\"_parent\"><img src=\"https://colab.research.google.com/assets/colab-badge.svg\" alt=\"Open In Colab\"/></a>"
      ]
    },
    {
      "cell_type": "markdown",
      "metadata": {
        "id": "HWMFf-PdQVk_"
      },
      "source": [
        "Here we are going to find out gross salary of a person.\n",
        "*  gross Salary = Basic+HRA+DA+Allowances-PF\n",
        "*  Here HRA = 20% of Basic\n",
        "* DA = 50% of Basic\n",
        "* PF = 13% of Basic\n",
        "* Allowances are :-\n",
        "    \n",
        "    Allow = 1700 if grade 'A',\n",
        "\n",
        "    Allow = 1500 if Grade 'B',\n",
        "    \n",
        "    Allow = 1200 if grade 'C',\n"
      ]
    },
    {
      "cell_type": "code",
      "metadata": {
        "id": "QtDsV1rIQK73"
      },
      "source": [
        "#Import libraries\n",
        "import pandas as pd\n",
        "import numpy as np"
      ],
      "execution_count": 37,
      "outputs": []
    },
    {
      "cell_type": "code",
      "metadata": {
        "colab": {
          "base_uri": "https://localhost:8080/"
        },
        "id": "Vse3sscEVLcl",
        "outputId": "76766cb9-993c-424b-f066-da00afe8276f"
      },
      "source": [
        "#basic, grade = input(), input()(Two variable two 'input()' use)\n",
        "#basic = [int(basic) for basic in input()](input() output is in string, so it has to convert in int)\n",
        "#basic, grade = [int(basic) for basic in input('Enter the Basic of Salary & grade : \\n').split()] (Out of two variable make one of the variable int)\n",
        "#basic, grade = map(int, Salary_input.split(' '))(For saperating the two variable with split)"
      ],
      "execution_count": 39,
      "outputs": [
        {
          "output_type": "stream",
          "text": [
            "500000\n",
            "A\n"
          ],
          "name": "stdout"
        }
      ]
    },
    {
      "cell_type": "code",
      "metadata": {
        "colab": {
          "base_uri": "https://localhost:8080/"
        },
        "id": "Xe-zWAznQTWI",
        "outputId": "f8bcebf2-276e-4245-90d1-a835dd82c114"
      },
      "source": [
        "# Enter the input as basic and Grade\n",
        "basic = float(input(\"Enter Basic Of Salary: \"))#(below program need float values)\n",
        "grade = input(\"Enter Grade of employee: \")\n",
        "\n",
        "#Define  function\n",
        "def GrossSalary(basic, grade):\n",
        "  # Define formulae\n",
        "  HRA = (20/100) * basic \n",
        "  DA = 0.5 * basic\n",
        "  PF = 0.13 * basic\n",
        "\n",
        "# Define conditions for allowances\n",
        "  if grade == 'A':\n",
        "    allow = 1700\n",
        "  elif grade == 'B':\n",
        "    allow = 1500\n",
        "  else:\n",
        "    allow = 1200\n",
        "\n",
        "# Formula for gross Salary \n",
        "  Gross = round(basic+HRA+DA+allow-PF)\n",
        "\n",
        "  return Gross\n",
        "# Print gross Salary \n",
        "print('\\nGross Salary : ', GrossSalary(basic,grade))"
      ],
      "execution_count": 44,
      "outputs": [
        {
          "output_type": "stream",
          "text": [
            "Enter Basic Of Salary: 7000\n",
            "Enter Grade of employee: c\n",
            "\n",
            "Gross Salary :  12190\n"
          ],
          "name": "stdout"
        }
      ]
    },
    {
      "cell_type": "code",
      "metadata": {
        "id": "9mlkCQdQVAPa"
      },
      "source": [
        ""
      ],
      "execution_count": null,
      "outputs": []
    }
  ]
}